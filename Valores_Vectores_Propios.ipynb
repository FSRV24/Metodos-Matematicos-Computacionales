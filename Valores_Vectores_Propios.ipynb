{
  "nbformat": 4,
  "nbformat_minor": 0,
  "metadata": {
    "kernelspec": {
      "display_name": "Python 3",
      "language": "python",
      "name": "python3"
    },
    "language_info": {
      "codemirror_mode": {
        "name": "ipython",
        "version": 3
      },
      "file_extension": ".py",
      "mimetype": "text/x-python",
      "name": "python",
      "nbconvert_exporter": "python",
      "pygments_lexer": "ipython3",
      "version": "3.7.6"
    },
    "colab": {
      "name": "Valores_Vectores_Propios.ipynb",
      "provenance": []
    }
  },
  "cells": [
    {
      "cell_type": "markdown",
      "metadata": {
        "id": "uFHYcRUN2QPI"
      },
      "source": [
        "# Vectores y Valores propios\n",
        "\n",
        "Para entender el concepto de vector propio o valor propio, es necesario entender cuales son los fundamentos de representar a los vectores como arreglos ordenados de números.\n",
        "\n",
        "## Ejemplos de Espacios Vectoriales y su relación con $\\mathbb{R}^n$\n",
        "\n",
        "Un ejemplo de espacio vectorial sobre los reales, es el conjunto de los polinomios reales de una sola variable $\\text{P}_n(x)$ de grado $n$, el cuál tiene dimensión $n+1$.\n",
        "\n",
        "El cero de este espacio vectorial, es el polinomio cuyos coeficientes son todos cero.\n",
        "\n",
        "Es fácil comprobar que este es un espacio vectorial, ya que la multiplicación por escalar, está dada por la multiplicación del escalar por todos los coeficientes del polinomio y el resultado sigue siendo un polinomio, la suma de 2 polinomios del mismo grado, nos regresa un polinomio del mismo grado y todo polinomio tiene un polinomio inverso que te regresa el polinomio cero.\n",
        "\n",
        "\n",
        "Una base para este espacio vectorial, es el conjunto\n",
        "\n",
        "$$\n",
        "\\beta = \\{ x^i | o \\leq i \\leq n \\}\n",
        "$$\n",
        "\n",
        "\n",
        "De esta manera, si definimos a $e^i$ como el i-ésimo vector de la base, el polinomio arbitrario p(x) dado por\n",
        "\n",
        "$$\n",
        "p(x) = \\sum_{k=0}^n a_k x^k\n",
        "$$\n",
        "\n",
        "puede ser reescrito como\n",
        "\n",
        "$$\n",
        "p(x) = \\sum_{k=1}^{n+1} a_{k-1} e_k\n",
        "$$\n",
        "\n",
        "Ahora, por otra parte, tenemos que el espacio vectorial $R^{n+1}$, es de dimensión $n+1$ y la base llamada canónica, es la siguiente\n",
        "\n",
        "$$\n",
        "\\beta = \\{ e_i | 1 \\leq i \\leq n+1 \\}\n",
        "$$\n",
        "\n",
        "donde $e_i$ es el vector de $(n+1)$ entradas, cuya única entrada distinta de cero, se encuentra en la i-ésima posición.\n",
        "\n",
        "De esta manera, dado un vector arbitrario\n",
        "\n",
        "$v = (a_0, a_1, ..., a_n)$, v puede escribirse en términos de la base canónica como\n",
        "\n",
        "$$\n",
        "v = \\sum_{k=1}^{n+1} a_{k-1} e_{k}\n",
        "$$\n",
        "\n",
        "\n",
        "\n"
      ]
    },
    {
      "cell_type": "markdown",
      "metadata": {
        "id": "9VWteA3L2QPO"
      },
      "source": [
        "Notamos que hay cierta relación entre ambos espacios vectoriales, de hecho, podemos definir una función entre ambos espacios que relacione uno a uno los elementos de $\\text{P}_n(x)$ y los elementos de $\\mathbb{R}^n$ de la manera que sigue.\n",
        "\n",
        "Sea $\\phi : \\text{P}_n(x) \\longrightarrow \\mathbb{R}^n $, una función tal que\n",
        "\n",
        "\n",
        "$$\\phi\\left( \\sum_{k=0}^n a_k x^k \\right) = (a_0, a_1, ..., a_n)$$\n",
        "\n",
        "\n",
        "Este tipo de funciones son llamadas isomorfismos, ya que relacionan dos conjuntos con estructura de espacio vectorial de manera biyectiva y preservando la operación de suma entre vectores. Es decir, es lineal\n",
        "\n",
        "$$\\phi\\left( \\sum_{k=0}^n a_k x^k \\right) = \\sum_{k=0}^n a_{k} \\phi(x^k)$$\n",
        "\n",
        "Donde del lado izquierdo se tiene la suma en el espacio de polinomios y del lado derecho se tiene la suma en el espacio $\\mathbb{R}^{n+1}$.\n",
        "\n",
        "Dicho esto, para saber cómo actúa $\\phi$, es únicamente necesario verificar como actúa $\\phi$ en la base del espacio vectorial.\n",
        "\n",
        "De esta manera, dado un espacio vectorial de dimensión finita $n$, es posible encontrar un isomorfismo a un $\\mathbb{R}^n$. Por lo que el estudio de espacios vectoriales, se reduce al estudio de los espacios $\\mathbb{R}^n$ y las funciones entre ellos.\n",
        "\n",
        "## Representación de un vector en distintas bases\n",
        "\n",
        "Con lo dicho anteriormente, podemos generalizar la representación de un vector en un $\\mathbb{R}^n$. \n",
        "\n",
        "Sea un espacio vectorial $V$ con una base arbitraria $\\beta = \\{ e_i | 1 \\leq i \\leq n \\}$ y un vector $v$, tal que  \n",
        "\n",
        "$$\n",
        "v = \\sum_{i=1}^{n} a_i e_i\n",
        "$$\n",
        "\n",
        "Entonces decimos que la representación de $v$ en la base $\\beta$ será\n",
        "\n",
        "$$\n",
        "[v]_{\\beta} = (a_1, a_2, ..., a_n)\n",
        "$$"
      ]
    },
    {
      "cell_type": "markdown",
      "metadata": {
        "id": "H-e0jJrE2QPR"
      },
      "source": [
        "Esta generalización, nos permite tener una aproximación más general al estudio de los vectores, ya que la representación de los mismos, dependerá de la base que utilicemos. Es decir, dado el vector $v=(1,1)$ en la representación canónica, la representación de este vector en la base $ \\beta = \\{ (1,1), (-1,1) \\}$ será $[v]_\\beta = (1,0)$, ya que\n",
        "\n",
        "$v= (1) (1,1) + (0) (-1,1)$\n",
        "\n",
        " ### Matriz de cambio de base\n",
        " \n",
        " Viendo que en un mismo espacio lucirán distintos los vectores dependiendo de qué base escojamos para representarlos, surge la pregunta  ¿cómo cambiar de representación un vector arbitrario dadas 2 bases?.\n",
        " \n",
        " Para lograr responderla, es necesario tomar en cuenta que tomando un vector arbitrario, es posible descomponer a este vector como combinación lineal de cualquiera de las 2 bases, es decir, que también los vectores de cada base podrán ser escritos como combinación lineal de la otra.\n",
        " \n",
        " Sean $\\beta, \\gamma$ dos bases de un espacio vectorial de dimensión $n$. De acuerdo a lo anterior para cada $e_j$ de la base $\\beta$ puede escribirse que\n",
        " \n",
        " $$\n",
        " e_j = \\sum_{i=1}^n a_{ij}\\hat{e}_i\n",
        " $$\n",
        " \n",
        " Donde los $\\hat{e}_i$ son los vectores de la base $\\gamma$"
      ]
    },
    {
      "cell_type": "markdown",
      "metadata": {
        "id": "KWTx9mnv2QPT"
      },
      "source": [
        "Así, dado un vector arbitrario $v$ de nuestro espacio vectorial, se tiene lo siguiente:\n",
        "$$\n",
        "v = \\sum_{j=1}^n v_j e_j = \\sum_{j=1}^n v_j \\left( \\sum_{i=1}^n a_{ij} \\hat{e}_i \\right) = \\sum_{i=1}^n \\left( \\sum_{j=1}^n a_{ij} v_j \\right) \\hat{e}_i\n",
        "$$"
      ]
    },
    {
      "cell_type": "markdown",
      "metadata": {
        "id": "tRCU0EQm2QPU"
      },
      "source": [
        "De esta manera podemos ver que cuando $[v]_\\beta = (v_1, v_2, ..., v_n)$, se tiene que \n",
        "\n",
        "$$[v]_{\\gamma} = \\left(\\sum_{k=0}^n a_{1k}v_{k}, \\sum_{k=0}^n a_{2k}v_k, ..., \\sum_{k=0}^n a_{nk} v_k \\right)$$\n",
        "\n",
        "Que visto de manera matricial es que \n"
      ]
    },
    {
      "cell_type": "markdown",
      "metadata": {
        "id": "Wt55zgn92QPV"
      },
      "source": [
        "$$\n",
        "[v]_{\\gamma} = \\left( \\begin{array}\\\\\n",
        " a_{11} & a_{12} & ... & a_{1n}\\\\\n",
        " a_{21} & a_{22} & ... & a_{2n}\\\\\n",
        " \\vdots & \\vdots & \\ddots & \\vdots \\\\\n",
        " a_{n1} & a_{n2} & ... & a_{nn}\n",
        " \\end{array} \\right)\n",
        " \\left( \\begin{array}\\\\\n",
        "  v_1 \\\\\n",
        "  v_2 \\\\\n",
        "  \\vdots \\\\\n",
        "  v_n\n",
        " \\end{array}\n",
        " \\right)\n",
        "$$"
      ]
    },
    {
      "cell_type": "markdown",
      "metadata": {
        "id": "Q2PKc-n82QPW"
      },
      "source": [
        "Definiendo a la matriz $[A]_{ij} = a_{ij}$ se puede escribir de manera abreviada como\n",
        "\n",
        "$$\n",
        "[v]_\\gamma = A [v]_\\beta\n",
        "$$\n",
        "\n",
        "A la matriz $A$ se le conoce como matriz de cambio de base."
      ]
    },
    {
      "cell_type": "markdown",
      "metadata": {
        "id": "zS2Pzi5x2QPW"
      },
      "source": [
        "## Matrices como funciones lineales entre espacios vectoriales\n",
        "\n",
        "Sean $V$ y $W$ dos espacios vectoriales de dimensión $n$ y $m$ respectivamente. Sea una función $L$ entre estos espacios vectoriales, se dice que $L$ es lineal si dados $u,v$ vectores en $V$ y $\\alpha$ escalar, $L$ cumple que \n",
        "\n",
        "$$\n",
        "L(\\alpha u + v) = \\alpha L(u) + L(v)\n",
        "$$\n",
        "\n",
        "Sean $\\beta$ y $\\gamma$ bases de nuestros espacios vectoriales $V$ y $W$ respectivamente.\n",
        "\n",
        "Al ser $L$ lineal, notamos que para saber como actúa $L$ en general, únicamente es necesario saber cómo ectúa $L$ en la base de los espacios vectoriales, ya que dado un $v$ vector de $V$, se tiene que\n",
        "\n",
        "\n",
        "$$\n",
        "L(v) = L \\left( \\sum_{k=0}^n a_k e_k \\right) = \\sum_{j=1}^n a_j L(e_j)\n",
        "$$\n",
        "\n",
        "Donde $e_k$ son los vectores base de $V$. \n",
        "\n",
        "Ahora, al ser $\\gamma$ una base de $W$, se tiene que todo vector en $W$ puede ser expresado como combinación lineal de los elementos de $\\gamma$, por lo que en particular, al esar $L(e_k)$ en $W$, se tiene que\n",
        "\n",
        "$$\n",
        "L(e_j) = \\sum_{k=1}^m b_{kj} \\hat{e}_k\n",
        "$$\n",
        "\n",
        "Donde $\\hat{e}_k$ son los elementos de la base de $W$.\n",
        "\n",
        "\n",
        "Así, la expresión del vector $L(v)$ en la base $\\gamma$ es\n",
        "\n",
        "$$\n",
        "[L(v)]_\\gamma = \\sum_{j=1}^n a_j \\left( \\sum_{k=1}^m b_{kj} \\hat{e}_k \\right) = \\sum_{k=1}^m \\left( \\sum_{j=1}^n a_j b_{kj} \\right) \\hat{e}_k\n",
        "$$\n",
        "\n",
        "\n",
        "\n",
        "\n"
      ]
    },
    {
      "cell_type": "markdown",
      "metadata": {
        "id": "3yVY4-AN2QPX"
      },
      "source": [
        "Es decir, definiendo la matriz $L$ tal que $[L]_{ij} = b_{ij}$, se tiene que la aplicación de nuestra función lineal sobre un vector $v$ representado en la base $\\gamma$, se puede obtener mediante la multiplicación de nuestra matriz $L$ por la representación del vector $v$ en la representación $\\beta$ y los coeficientes de $L$ serán obtenidos de la aplicación de nuestra función lineal $L$ a los elementos de la base $\\beta$ y serán igual al acomodo en columnas de los vectores obtenidos en la representación $\\gamma$.\n",
        "\n",
        "En forma matricial se tiene\n",
        "\n",
        "$$\n",
        "[L(v)]_\\gamma = L_\\gamma^\\beta [v]_\\beta\n",
        "$$\n",
        "\n",
        "Donde $L_\\gamma^\\beta$ es la matriz asociada a la función lineal $L$ en la representación $\\beta$ en $V$ y $\\gamma$ en $W$. La matriz será de dimensiones $m \\times n$.\n",
        "\n",
        "\n",
        "$$\n",
        "L((1,0)) = (2,3), L(0,1) = (-1,-1)\n",
        "$$\n",
        "\n",
        "$\\beta = \\{ (1,0), (0,1) \\}, \\gamma_1 = \\{ (0,1), (1,0) \\}, \\gamma_2 = \\{ (1,1), (-1,1) \\}, \\gamma_3 = \\{ ((1,0), (0,1) \\}$"
      ]
    },
    {
      "cell_type": "markdown",
      "metadata": {
        "id": "luK8LWPe2QPY"
      },
      "source": [
        "$L= ((3, -1)\\\\ \n",
        "   (2, -1))$\n",
        "   \n",
        "   $ L(2,5) = 2 L(1,0) + 5 L(0,1)$\n",
        "   \n",
        "   $L(2,5) = (1, -1)$"
      ]
    },
    {
      "cell_type": "markdown",
      "metadata": {
        "id": "55SEofN82QPY"
      },
      "source": [
        "Como esto fue hecho para una función lineal arbitraria, esto se generaliza a cualquier función arbitraria entre espacios vectoriales. \n",
        "\n",
        "La asociación que acabamos de hacer entre el espacio matrices $\\mathcal{M}_{m\\times n}(\\mathbb{R})$ con coeficientes reales y las funciones lineales entre espacios vectoriales de dimensión $n$ y $m$, es un isomorfismo. A su vez, este espacio es isomorfo a $\\mathbb{R}^{m+n}$.\n",
        "\n",
        "A partir de esto, se puede concluir que la dimensión del espacio de funciones lineales entre espacios vectoriales de dimensión $n$ y $m$ es $m+n$."
      ]
    },
    {
      "cell_type": "markdown",
      "metadata": {
        "id": "Je-VyWZX2QPZ"
      },
      "source": [
        "## Interpreatción y Cálculo de los valores y vectores propios\n",
        "\n",
        "\n",
        "Con todo lo anterior como base, podemos ver que toda matriz es una función lineal entre espacios vectoriales y que la representación que esta tenga, dependerá de las bases escogidas en los respectivos espacios vectoriales en los que toma valores y en arroja valores.\n",
        "\n",
        "Las matrices más simples que existen, son las matrices diagonales, ya que es muy sencillo caracterizarlas.\n",
        "\n",
        "Así, dada una matriz cuadrada arbitraria $A$, tomando en cuenta que esta matriz es una aplicación lineal entre espacios vectoriales de la misma dimensión (de $\\mathbb{R}^n$ a $\\mathbb{R}^n$), surge la pregunta ¿es posible encontrar una base adecuada en la cuál representar esta matriz de tal forma que la representación de la matriz sea diagonal?"
      ]
    },
    {
      "cell_type": "markdown",
      "metadata": {
        "id": "MWZGMUaJ2QPZ"
      },
      "source": [
        "Para encontrar la respuesta a esto, es necesario encontrar aquellos vectores que cumplan lo siguiente\n",
        "\n",
        "$$\n",
        "Av = \\lambda v\n",
        "$$\n",
        "\n",
        "ya que estos vectores son aquellos en los cuáles nuestra matriz lo único que hace, es escalarlos, reducirlos en tamaño o aumentarlos.\n",
        "\n",
        "Dicho de otra manera, una matriz diagonal, es aquella que representada en cierta base, lo único que cambiaría, sería cambiar el tamaño de los vectores base. \n",
        "\n",
        "Así, si nosotros logramos encontrar ciertos vectores en los cuáles nuestra matriz únicamente los escale, estaremos encontrando una base en la cuál nuestra matriz sea diagonal. Si el rango de nuestra matriz es igual a la dimensión de nuestro espacio, podremos encontrar los vectores necesarios para formar una base que genere nuestro espacio y de esta manera, estaremos encontrando la representación buscada."
      ]
    },
    {
      "cell_type": "markdown",
      "metadata": {
        "id": "pROq4FPs2QPa"
      },
      "source": [
        "Para encontrar estos vectores, hacemos primero un pequeño despeje. Si se cumple que $Av = \\lambda v$, entonces\n",
        "\n",
        "$$\n",
        "Av - \\lambda v = 0\\ \\Rightarrow\\ (A- \\lambda \\text{Id})v = 0\n",
        "$$\n",
        "\n",
        "\n",
        "Ahora, lo anterior es cero si la matriz $(A-\\lambda \\text{Id})$ cumple que\n",
        "\n",
        "$$\n",
        "\\det(A - \\lambda \\text{Id}) =0\n",
        "$$\n",
        "\n",
        "La función determinante, en general arroja un número real, sin embargo en este caso, estará en función de $\\lambda$. Definamos\n",
        "\n",
        "$$\n",
        "p(\\lambda) = \\det(A - \\lambda \\text{Id})\n",
        "$$\n",
        "\n",
        "$p(\\lambda)$ es un polinomio de grado $n$ si la matriz es de $n \\times n$, a este polinomio se le conoce como el polinomio característico de la matriz y las soluciones a la ecuación\n",
        "\n",
        "$$\n",
        "p(\\lambda) = 0\n",
        "$$\n",
        "\n",
        "\n",
        "serán los $\\lambda$ buscados conocidos como $\\textbf{valores propios}$.\n",
        "\n",
        "El número de valores propios será $n$ donde puede que existan repetidos.\n",
        "\n",
        "Para encontrar los vectores propios, es necesario sustituir cada $\\lambda_i$ en la ecuación \n",
        "\n",
        "$$\n",
        "Av = \\lambda_i v\n",
        "$$\n",
        "\n",
        "y encontrar para que $v$ se cumple. Cada valor propio tendrá un vector propio asociado y estos vectores propios, serán los que formen nuestra base."
      ]
    },
    {
      "cell_type": "markdown",
      "metadata": {
        "id": "K2XajrAp2QPb"
      },
      "source": [
        "## Diagonalización de la matriz\n",
        "\n",
        "Sabiendo que base escoger en la cuál nuestra matriz luzca diagonal, únicamenete es necesario aplicar la matriz de cambio de base a los vectores correspondientes y con esto obtener la matriz diagonal, es decir, siendo $P$ la matriz de cambio de base tal que\n",
        "\n",
        "$$\n",
        "Pv = \\hat{v}\n",
        "$$\n",
        "\n",
        "Se tiene que \n",
        "\n",
        "$$\n",
        "D = P^{-1}AP\n",
        "$$\n",
        "\n",
        "Ya que en nuestra base de eigenvectores, se tiene que \n",
        "\n",
        "\n",
        "$$\n",
        "D \\hat{v} = \\lambda \\hat{v}\\\n",
        "$$\n",
        "\n",
        "Y utilizando el cambio de base para cada vector para volver al espacio original, se tiene que \n",
        "\n",
        "$$\n",
        "DP^{-1}v = P^{-1}v\\ \\Rightarrow PDP^{-1}v = v\n",
        "$$\n",
        "\n",
        "\n",
        "Donde $PDP^{-1}=A$\n",
        "\n",
        "\n",
        "Los elementos de la matriz diagonal $D$, corresponden a los eigenvalores de $A$ y las columnas de la matriz $P$, son los eigenvectores de $A$. \n",
        "\n",
        "\n",
        "Es importante resaltar que para que una matriz $A$ pueda ser escrita de esta forma, es necesario que sus eigenvectores formen una base del espacio, ya que de lo contrario, no es posible escribirla asi. A las matrices que cumplen esto, se les conoce como matrices diagonalizables."
      ]
    },
    {
      "cell_type": "code",
      "metadata": {
        "id": "fmK0AXaz2QPc"
      },
      "source": [
        ""
      ],
      "execution_count": null,
      "outputs": []
    }
  ]
}