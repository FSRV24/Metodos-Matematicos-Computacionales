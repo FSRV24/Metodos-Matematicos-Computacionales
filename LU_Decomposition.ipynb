{
  "nbformat": 4,
  "nbformat_minor": 0,
  "metadata": {
    "kernelspec": {
      "display_name": "Python 3",
      "language": "python",
      "name": "python3"
    },
    "language_info": {
      "codemirror_mode": {
        "name": "ipython",
        "version": 3
      },
      "file_extension": ".py",
      "mimetype": "text/x-python",
      "name": "python",
      "nbconvert_exporter": "python",
      "pygments_lexer": "ipython3",
      "version": "3.7.6"
    },
    "colab": {
      "name": "LU_Decomposition.ipynb",
      "provenance": []
    }
  },
  "cells": [
    {
      "cell_type": "markdown",
      "metadata": {
        "id": "HKMZko2uBTq4"
      },
      "source": [
        "#  Factorización LU\n",
        "\n",
        "\n",
        "\n",
        "La factorización LU consiste en escribir una Matriz $A$ como la multiplicación de una matriz triangular inferior $L$ y una matriz superior $U$. \n",
        "\n",
        "$$A=LU$$\n",
        "\n",
        "El único requisito matemático para que la factorización exista es que $A$ debe ser invertible. \n",
        "\n",
        "\n",
        "## Aplicación\n",
        "\n",
        "Al igual que la eliminación Gaussiana, este método nos permite resolver sistemas de ecuaciones matriciales de la forma \n",
        "\n",
        "$$ Ax = b$$\n",
        "\n",
        "Donde $A$ es una matriz invertible, $x$ es el vector de incógnitas y $b$ es un vector de constantes del mismo tamaño que $x$. Este sistema matricial lineal, es el equivalente a un sistema de ecuaciones lineales.\n",
        "\n",
        "\n",
        "### Resolviendo $Ax=b$\n",
        "\n",
        "Conocidas las matrices $L$ y $U$, se tiene que\n",
        "\n",
        "$$LUx=b$$\n",
        "\n",
        "Así, podemos descomponer la ecuación original en\n",
        "\n",
        "$$Ly=b$$\n",
        "\n",
        "$$Ux=y$$\n",
        "\n",
        "Que son dos sistemas matriciales con matrices triangulares, los cuáles se pueden resolver de manera directa al despejar y sustituir.\n",
        "\n",
        "## Cálculo de $L$ y $U$\n",
        "\n",
        "En esta sección presentaremos la deducción de 2 métodos para encontrar las matrices $L$ y $U$ explícitamente, así como los problemas asociados a cada uno.\n",
        "\n",
        "### Método Doolittle\n",
        "\n",
        "El método Doolittle es un método para encontrar las matrices $L$ y $U$, en el cuál se fija la diagonal de $L$ como 1's. De acuerdo a esta propuesta, se tiene lo siguiente \n",
        "\n",
        "$$\n",
        "\\left(\n",
        "\\begin{array}\\\\\n",
        "a_{11} & a_{12} & ... & a_{1n} \\\\\n",
        "a_{21} & a_{22} & ... & a_{2n} \\\\\n",
        "\\vdots & \\vdots & \\ddots & \\vdots \\\\\n",
        "a_{n1} & a_{n2} & ... & a_{nn}\n",
        "\\end{array}\n",
        "\\right)\n",
        "=\n",
        "\\left(\\begin{array}\\\\\n",
        " 1 & 0 & ... & 0 \\\\\n",
        " l_{21} & 1 & ... & 0 \\\\\n",
        " \\vdots & \\vdots & \\ddots & \\vdots \\\\\n",
        " l_{n1} & l_{n2} & ... & 1\n",
        " \\end{array}\n",
        "\\right)\n",
        "\\left(\n",
        " \\begin{array}\\\\\n",
        " u_{11} & u_{12} & ... & u_{1n}\\\\\n",
        " 0 & u_{22} & ... & u_{2n} \\\\\n",
        " \\vdots & \\vdots & \\ddots & \\vdots \\\\\n",
        " 0 & 0 & ... & u_{nn}\n",
        " \\end{array}\n",
        "\\right)\n",
        "$$\n",
        "\n",
        "Notamos que de inicio, ya contamos con el primer renglón de $L$.\n",
        "\n",
        "Así, podemos ver que para el primer renglón de $U$, se tiene que \n",
        "\n",
        "$$\n",
        "a_{1j} = l_{11} u_{1j} = u_{1j}\n",
        "$$\n",
        "\n",
        "Por lo que tenemos el primer reglón de $U$.\n",
        "\n",
        "Para el segundo renglón se tiene que en $L$\n",
        "\n",
        "$$\n",
        "a_{21} = l_{21}u_{11}\\ \\Rightarrow\\ l_{21} = \\frac{a_{21}}{u_{11}}\n",
        "$$\n",
        "\n",
        "Teniendo así el segundo renglón de $L$\n",
        "\n",
        "Y en general, con $2 \\leq j$, se tiene \n",
        "\n",
        "$$\n",
        "a_{2j} = l_{21}u_{1j} + u_{2j}\\ \\Rightarrow \\ u_{2j}= a_{2j} - l_{21}U_{1j}\n",
        "$$\n",
        "\n",
        "\n",
        "Para el tercer renglón, se tiene en $L$ que\n",
        "\n",
        "$$\n",
        "a_{31} = l_{31}u_{11}\\ \\Rightarrow\\ l_{31} = \\frac{a_{31}}{u_{11}}\\\\\n",
        "a_{32} = l_{31}u_{12} + l_{32}u_{22}\\ \\Rightarrow\\ l_{32}= \\frac{1}{u_{22}}\\left( a_{32} - l_{31}u_{21} \\right)\\\\\n",
        "$$\n",
        "\n",
        "Teniendo así todo el tercer renglón de $L$\n",
        "\n",
        "Para $U$ se tiene que\n",
        "\n",
        "$$\n",
        "a_{3j} = l_{31}u_{1j} + l_{32}u_{2j} + u_{3j}\\\\\n",
        "\\Rightarrow\\ u_{3j} = a_{3j} - l_{31}u_{1j} - l_{32}u_{2j}\n",
        "$$\n",
        "\n",
        "\n",
        "Así, en general, podemos obtener nuestros coeficientes de la siguiente manera\n",
        "\n",
        "$$\n",
        "\\left\\{ \n",
        "\\begin{array}\\\\\n",
        "u_{ij} & = & a_{ij} - \\sum_{k=1}^{i-1} l_{ik}u_{kj} \\\\\n",
        "l_{ij} & = & \\frac{1}{u_{jj}}\\left( a_{ij} - \\sum_{k=1}^{j-1}l_{ik}u_{kj} \\right)\n",
        "\\end{array}\n",
        "\\right.\n",
        "$$\n",
        "\n",
        "#### Ejemplo a \"mano\"\n",
        "\n",
        "Calcular la factorización de la matriz \n",
        "\n",
        "$$\n",
        "A= \\begin{pmatrix}\n",
        "    1 & 2 & -1\\\\\n",
        "    0 & -2 & 1 \\\\\n",
        "    -1 & 0 & 1\n",
        "    \\end{pmatrix}\n",
        "$$"
      ]
    },
    {
      "cell_type": "markdown",
      "metadata": {
        "id": "6laCGSn1BTrD"
      },
      "source": [
        "El primer renglón es conocido de antemano, $l_{11}=1$ y $u_{1j}=a_{1j}$\n",
        "\n",
        "$u_{11} = a_{11}= 1$, $u_{12} = a_{12}=2$, $u_{13} = a_{13} = -1$\n",
        "\n",
        "Estamos yendo de renglón en renglón, por lo que calulamos primero las $l_{ij}$ y después las $u_{ij}$\n",
        "\n",
        "$l_{21} = \\frac{1}{u_{11}} \\left(a_{21} \\right) = \\frac{0}{1}=0$\n",
        "\n",
        "La diagonal de $L$ es conocida ya que es al inicio una identidad.\n",
        "\n",
        "$u_{22} = a_{22} - l_{21}u_{12} = -2 - (0)(2) = -2$\n",
        "\n",
        "$u_{23} = a_{23} - l_{21}u_{13} = 1 - 0(-1) = 1$\n",
        "\n",
        "Pasamos al tercer renglón comenzando de nuevo por $L$\n",
        "\n",
        "$l_{31} = \\frac{1}{u_{11}} \\left(a_{31} \\right)= \\frac{-1}{1}=-1 $\n",
        "\n",
        "$L_{32} = \\frac{1}{u_{22}} \\left(a_{32} - l_{31}u_{12} \\right) = \\frac{1}{-2} \\left( 0 - (-1)(2) \\right) = -1 $ \n",
        "\n",
        "Pasamos por último a calcular el elemento restante de $U$\n",
        "\n",
        "$u_{33} = a_{33} - (l_{31}u_{13} + l_{32}u_{23})= 1 - ( (-1)(-1) + (-1)(1) ) = 1$\n",
        "\n",
        "Así, nuestras matrices $L$ y $U$ son"
      ]
    },
    {
      "cell_type": "markdown",
      "metadata": {
        "id": "yHp4aWlfBTrF"
      },
      "source": [
        "$$\n",
        "L= \\left( \\begin{array}\\\\\n",
        " 1 & 0 & 0\\\\\n",
        " 0 & 1 & 0\\\\\n",
        "-1 & -1 & 1\n",
        "\\end{array} \n",
        "\\right)\n",
        "\\\\\n",
        "U = \\left(\n",
        "\\begin{array}\\\\\n",
        " 1 & 2 & -1\\\\\n",
        " 0 & -2 & 1\\\\\n",
        " 0 & 0 & 1\n",
        "\\end{array}\n",
        "\\right)\n",
        "$$"
      ]
    },
    {
      "cell_type": "code",
      "metadata": {
        "id": "CpRbft77BTrH"
      },
      "source": [
        "# import se utiliza para agregar una paquetería a el script actual\n",
        "# cada que se inicia un nuevo script o notebook, debe importarse \n",
        "# las librerias necesarias\n",
        "\n",
        "import numpy as np"
      ],
      "execution_count": null,
      "outputs": []
    },
    {
      "cell_type": "code",
      "metadata": {
        "id": "-5MeD4S8BTrJ"
      },
      "source": [
        "#Asiganr un nombre a una lista\n",
        "\n",
        "M = ((1,0,-1), (0,1,1))"
      ],
      "execution_count": null,
      "outputs": []
    },
    {
      "cell_type": "code",
      "metadata": {
        "colab": {
          "base_uri": "https://localhost:8080/"
        },
        "id": "g86UvuIeBTrK",
        "outputId": "557fced0-71d5-4d12-95af-f735147d098e"
      },
      "source": [
        "#Acceso al primer elemento de la lista\n",
        "\n",
        "M[0]"
      ],
      "execution_count": null,
      "outputs": [
        {
          "output_type": "execute_result",
          "data": {
            "text/plain": [
              "(1, 0, -1)"
            ]
          },
          "metadata": {},
          "execution_count": 5
        }
      ]
    },
    {
      "cell_type": "code",
      "metadata": {
        "colab": {
          "base_uri": "https://localhost:8080/"
        },
        "id": "oBiTIAlWBTrM",
        "outputId": "1ac67805-1683-480a-f071-8303d3014c43"
      },
      "source": [
        "#Acceso a elementos en una Matriz\n",
        "\n",
        "M[0][2]"
      ],
      "execution_count": null,
      "outputs": [
        {
          "output_type": "execute_result",
          "data": {
            "text/plain": [
              "-1"
            ]
          },
          "metadata": {},
          "execution_count": 6
        }
      ]
    },
    {
      "cell_type": "code",
      "metadata": {
        "colab": {
          "base_uri": "https://localhost:8080/"
        },
        "id": "o_2ep6uYBTrO",
        "outputId": "80dc59be-d9d8-4a18-98c3-cfbfc99fe77d"
      },
      "source": [
        "#Verificación errónea de ser una matriz cuadrada\n",
        "\n",
        "if len(M[1]) == len(M[0]):\n",
        "    print(\"Es cuadrada\")\n",
        "    \n",
        "else:\n",
        "    print(\"No es cuadrada\")"
      ],
      "execution_count": null,
      "outputs": [
        {
          "output_type": "stream",
          "name": "stdout",
          "text": [
            "Es cuadrada\n"
          ]
        }
      ]
    },
    {
      "cell_type": "code",
      "metadata": {
        "id": "5Ox1K3SVBTrQ"
      },
      "source": [
        "#Convertir una lista de listas en un array de Numpy\n",
        "M=np.array(M)"
      ],
      "execution_count": null,
      "outputs": []
    },
    {
      "cell_type": "code",
      "metadata": {
        "colab": {
          "base_uri": "https://localhost:8080/"
        },
        "id": "xfxt77sNBTrR",
        "outputId": "7659e760-a671-442f-f5d9-9c727a4dbe97"
      },
      "source": [
        "# Ahora M aparece con la palabra array antes de la lista y \n",
        "# acomodado como Matriz\n",
        "\n",
        "M"
      ],
      "execution_count": null,
      "outputs": [
        {
          "output_type": "execute_result",
          "data": {
            "text/plain": [
              "array([[ 1,  0, -1],\n",
              "       [ 0,  1,  1]])"
            ]
          },
          "metadata": {},
          "execution_count": 9
        }
      ]
    },
    {
      "cell_type": "code",
      "metadata": {
        "colab": {
          "base_uri": "https://localhost:8080/"
        },
        "id": "nUQ5dP2oBTrT",
        "outputId": "858fe70b-e275-4226-fe2e-1bd16d212046"
      },
      "source": [
        "#Acceso a los renglones en un array\n",
        "M[0]"
      ],
      "execution_count": null,
      "outputs": [
        {
          "output_type": "execute_result",
          "data": {
            "text/plain": [
              "array([ 1,  0, -1])"
            ]
          },
          "metadata": {},
          "execution_count": 10
        }
      ]
    },
    {
      "cell_type": "code",
      "metadata": {
        "id": "WAu_ut45BTrU"
      },
      "source": [
        "#Definir un array directamente desde una lista\n",
        "\n",
        "N=np.array([[1,1], \n",
        "            [1,-1]])"
      ],
      "execution_count": null,
      "outputs": []
    },
    {
      "cell_type": "code",
      "metadata": {
        "colab": {
          "base_uri": "https://localhost:8080/"
        },
        "id": "KaCsrlRxBTrU",
        "outputId": "c2c41b40-2db3-49bd-d20a-e95059d35e07"
      },
      "source": [
        "#acceso a las columnas en un array\n",
        "\n",
        "N[:,0]"
      ],
      "execution_count": null,
      "outputs": [
        {
          "output_type": "execute_result",
          "data": {
            "text/plain": [
              "array([1, 1])"
            ]
          },
          "metadata": {},
          "execution_count": 12
        }
      ]
    },
    {
      "cell_type": "code",
      "metadata": {
        "id": "eWp1B-X-BTrV"
      },
      "source": [
        "#Mini código para verificar si la matriz es cuadrada\n",
        "\n",
        "def comp_cuad(matrix):\n",
        "    if len(matrix[0]) == len(matrix[:,0]):\n",
        "        return True\n",
        "    else:\n",
        "        return False"
      ],
      "execution_count": null,
      "outputs": []
    },
    {
      "cell_type": "code",
      "metadata": {
        "colab": {
          "base_uri": "https://localhost:8080/"
        },
        "id": "mhl10igQBTrW",
        "outputId": "8c7c9ddd-ad99-4ba0-eb8b-7f8328201fea"
      },
      "source": [
        "if comp_cuad(M):\n",
        "    print(\"Es cuadrada\")\n",
        "else:\n",
        "    print(\"No es cuadrada\")"
      ],
      "execution_count": null,
      "outputs": [
        {
          "output_type": "stream",
          "name": "stdout",
          "text": [
            "No es cuadrada\n"
          ]
        }
      ]
    },
    {
      "cell_type": "code",
      "metadata": {
        "id": "Md5lDNtjBTrX"
      },
      "source": [
        "#Mini código para verificar si la matriz es invertible\n",
        "\n",
        "def comp_inv(matrix):\n",
        "    if np.linalg.det(matrix) == 0:\n",
        "        return False\n",
        "    else:\n",
        "        return True"
      ],
      "execution_count": null,
      "outputs": []
    },
    {
      "cell_type": "code",
      "metadata": {
        "colab": {
          "base_uri": "https://localhost:8080/"
        },
        "id": "zn6T0b4cBTrX",
        "outputId": "151501cf-ff2f-4ffc-e49c-f918b376933c"
      },
      "source": [
        "if comp_inv(N):\n",
        "    print(\"Es invertible\")\n",
        "else:\n",
        "    print(\"No es invertible\")"
      ],
      "execution_count": null,
      "outputs": [
        {
          "output_type": "stream",
          "name": "stdout",
          "text": [
            "Es invertible\n"
          ]
        }
      ]
    },
    {
      "cell_type": "code",
      "metadata": {
        "id": "j8fEmdl6BTrY"
      },
      "source": [
        "#Programa para calcular la suma de la fórmula para los $l_{ij}$\n",
        "\n",
        "def sum1(index1, index2, matrix1, matrix2):\n",
        "    if index2==0:\n",
        "        return 0\n",
        "    else:\n",
        "        suma=0\n",
        "        for k in range(index2):\n",
        "            suma = suma + matrix1[index1][k]*matrix2[k][index2]\n",
        "        return suma"
      ],
      "execution_count": null,
      "outputs": []
    },
    {
      "cell_type": "code",
      "metadata": {
        "id": "RnhimaFLBTrZ"
      },
      "source": [
        "#Programa para calcular la suma de la fórmula para los $u_{ij}$\n",
        "\n",
        "def sum2(index1, index2, matrix1, matrix2):\n",
        "    suma=0\n",
        "    for k in range(index1):\n",
        "        suma = suma + matrix1[index1][k]*matrix2[k][index2]\n",
        "    return suma"
      ],
      "execution_count": null,
      "outputs": []
    },
    {
      "cell_type": "code",
      "metadata": {
        "id": "N9jg66yVBTrZ"
      },
      "source": [
        "##Programa principal de Doolittle\n",
        "\n",
        "def Doolittle(matrix):\n",
        "    matrix=np.array(matrix) #Volvemos array la matriz ingresada por si a caso no lo fuera\n",
        "    if comp_cuad(matrix):\n",
        "        if comp_inv(matrix):\n",
        "            \n",
        "            lower=np.eye(len(matrix[0])) #Comando para crear la matriz identidad\n",
        "            \n",
        "            upper=np.zeros((len(matrix[0]),len(matrix[:,0]))) #Comando para crear una matriz de ceros\n",
        "            \n",
        "            for j in range(len(matrix[0])): #Llenamos el primer renglón de U\n",
        "                upper[0][j] = matrix[0][j]\n",
        "            \n",
        "            for i in range(1,len(matrix[0])):    #for para recorrer los índices llendo de renglón en renglón\n",
        "                for j in range(len(matrix[:,0])):  # el índice i es para renglones y el j para columnas\n",
        "                    if j<i:\n",
        "                        lower[i][j] = (1/upper[j][j])*(matrix[i][j] - sum1(i,j,lower,upper)) #Cálculo de L con la función suma auxiliar\n",
        "                    else:\n",
        "                        upper[i][j] = matrix[i][j] - sum2(i,j,lower, upper) #Cálculo de U con la función suma auxiliar\n",
        "            \n",
        "            return (lower,upper) #Regresamos una dupla que tenga la primer entrada a L y la segunda a U\n",
        "            \n",
        "        else:\n",
        "            print(\"La matriz no es invertible\")\n",
        "    else:\n",
        "        print(\"La matriz no es cuadrada\")"
      ],
      "execution_count": null,
      "outputs": []
    },
    {
      "cell_type": "code",
      "metadata": {
        "colab": {
          "base_uri": "https://localhost:8080/"
        },
        "id": "T5akflfHBTra",
        "outputId": "bec02306-2dad-407b-c391-be40fd776a46"
      },
      "source": [
        "# Comprobación con la Matriz hecha a mano\n",
        "\n",
        "A=np.array([[1,2,-1], \n",
        "            [0,-2,1],\n",
        "            [-1,0,1]])\n",
        "Doolittle(A)"
      ],
      "execution_count": null,
      "outputs": [
        {
          "output_type": "execute_result",
          "data": {
            "text/plain": [
              "(array([[ 1.,  0.,  0.],\n",
              "        [ 0.,  1.,  0.],\n",
              "        [-1., -1.,  1.]]), array([[ 1.,  2., -1.],\n",
              "        [ 0., -2.,  1.],\n",
              "        [ 0.,  0.,  1.]]))"
            ]
          },
          "metadata": {},
          "execution_count": 20
        }
      ]
    },
    {
      "cell_type": "code",
      "metadata": {
        "id": "JwzJc4k_BTrb"
      },
      "source": [
        "##Importación de librería\n",
        "\n",
        "import random as rand"
      ],
      "execution_count": null,
      "outputs": []
    },
    {
      "cell_type": "code",
      "metadata": {
        "id": "VlPkKCPzBTrb"
      },
      "source": [
        "# Una comprobación que puede hacerse en general es la siguiente\n",
        "\n",
        "# Creamos una función que haga matrices aleatorias de dimensión n\n",
        "\n",
        "# Arriba se importó la librería de random para hacer \n",
        "# números pseudo-aleatorios\n",
        "\n",
        "# Generaremos enteros entre -100 y 100\n",
        "\n",
        "def rand_matrix_int(n):\n",
        "    matrix=np.zeros((n,n)) #array de ceros\n",
        "    for i in range(n):\n",
        "        for j in range(n):\n",
        "            matrix[i][j]=rand.randint(-10,10)\n",
        "    matrix=np.array(matrix)\n",
        "    return matrix"
      ],
      "execution_count": null,
      "outputs": []
    },
    {
      "cell_type": "code",
      "metadata": {
        "colab": {
          "base_uri": "https://localhost:8080/"
        },
        "id": "s_XgL2_iBTrc",
        "outputId": "52d1a0a4-48e6-49d3-843f-d1d72b508b4a"
      },
      "source": [
        "#Probamos nuestra función\n",
        "\n",
        "rand_matrix_int(3)"
      ],
      "execution_count": null,
      "outputs": [
        {
          "output_type": "execute_result",
          "data": {
            "text/plain": [
              "array([[-1.,  0.,  8.],\n",
              "       [-8., -3.,  3.],\n",
              "       [ 0.,  1.,  7.]])"
            ]
          },
          "metadata": {},
          "execution_count": 23
        }
      ]
    },
    {
      "cell_type": "code",
      "metadata": {
        "colab": {
          "base_uri": "https://localhost:8080/"
        },
        "id": "-DMg2MMTBTrc",
        "outputId": "3e26e22d-6f48-43d7-b4e5-bc7e99847e71"
      },
      "source": [
        "# Para comprobar nuestro programa le metemos matrices aleatorias\n",
        "# Multiplicamos L y U y le restamos la original\n",
        "\n",
        "Rand=((1,2,1),(0,2,-1),(0,-1,2)) #Generación de matriz aleatoria\n",
        "\n",
        "print(\"Matriz a factorizar\",Rand) #Vista de la matriz\n",
        "print(\" \")\n",
        "print(\"L\",Doolittle(Rand)[0]) #Matriz L\n",
        "print(\" \")\n",
        "print(\"U\", Doolittle(Rand)[1]) #Matriz U\n",
        "print(\" \")\n",
        "print(\"Resta de la original y la multiplicación\",\n",
        "      np.matmul(Doolittle(Rand)[0],Doolittle(Rand)[1]) - Rand)"
      ],
      "execution_count": null,
      "outputs": [
        {
          "output_type": "stream",
          "name": "stdout",
          "text": [
            "Matriz a factorizar ((1, 2, 1), (0, 2, -1), (0, -1, 2))\n",
            " \n",
            "L [[ 1.   0.   0. ]\n",
            " [ 0.   1.   0. ]\n",
            " [ 0.  -0.5  1. ]]\n",
            " \n",
            "U [[ 1.   2.   1. ]\n",
            " [ 0.   2.  -1. ]\n",
            " [ 0.   0.   1.5]]\n",
            " \n",
            "Resta de la original y la multiplicación [[0. 0. 0.]\n",
            " [0. 0. 0.]\n",
            " [0. 0. 0.]]\n"
          ]
        }
      ]
    },
    {
      "cell_type": "markdown",
      "metadata": {
        "id": "FUDnaLkEBTrd"
      },
      "source": [
        "### Método de Cholesky\n",
        "\n",
        "\n",
        "El método de Cholesky, es un tipo de Factorización LU, el cuál se puede aplicar para matrices positivo definidas. El resultado de esta factorización, es que  la matriz $U$ será la traspuesta de la $L$, es decir\n",
        "\n",
        "$$U = L^T \\\\\n",
        "A = L L^T$$\n",
        "\n",
        "\n",
        "Una matriz $M$ positivo definida es aquella que cumple ser simétrica y que \n",
        "\n",
        "$$x^T M X > 0$$\n",
        "\n",
        "Donde $x$ es un vector arbitrario.\n",
        "\n",
        "Recordemos que una matriz simétrica $M$ cumple que $M_{ij} = M_{ji}$.\n",
        "\n",
        "\n",
        "Otra forma de verificar que una matriz sea positivo definida es que dados $\\lambda_i$ eigenvalores de $M$, se cumple que $\\forall i, \\lambda_i >0 $.\n",
        "\n",
        "\n",
        "Dadas las condiciones, pasamos a deducir cómo encontrar explícitamente nuestra matriz $L$.\n",
        "\n",
        "\n",
        "Con nuestras condiciones, supones que existe $A$ invertible y simétrica, tal que\n",
        "\n",
        "$$\n",
        "\\left(\\begin{array}\\\\\n",
        "          a_{11} & a_{12} & ... & a_{n1}\\\\\n",
        "          a_{12} & a_{22} & ... & a_{2n}\\\\\n",
        "          \\vdots & \\vdots & \\ddots & \\vdots \\\\\n",
        "          a_{n1} & a_{2n} & ... & a_{nn}\n",
        "           \\end{array}\n",
        "     \\right)\n",
        "=\n",
        "\\left(\\begin{array}\\\\\n",
        "        l_{11} & 0 & ... & 0\\\\\n",
        "        l_{21} & l_{22} & ... & 0\\\\\n",
        "        \\vdots & \\vdots & \\ddots & \\vdots \\\\\n",
        "        l_{n1} & l_{n2} & ... & l_{nn}\n",
        "       \\end{array}\n",
        "\\right)\n",
        "\\left(\\begin{array}\\\\\n",
        "   l_{11} & l_{21} & ... & l_{n1}\\\\\n",
        "   0 & l_{22} & ... & l_{n2}\\\\\n",
        "   \\vdots & \\vdots & \\ddots & \\vdots \\\\\n",
        "   0 & 0 & ... & l_{nn}\n",
        "   \\end{array}\n",
        "\\right)\n",
        "$$"
      ]
    },
    {
      "cell_type": "markdown",
      "metadata": {
        "id": "fPqNa65WBTrd"
      },
      "source": [
        "Así, podemos ver que \n",
        "\n",
        "$a_{11} = l_{11}^2\\ \\Rightarrow\\ l_{11}=\\sqrt{a_{11}}$\n",
        "\n",
        "y en general para $j>1$, se tiene que\n",
        "\n",
        "$ a_{1j} = l_{11}l_{j1}\\ \\Rightarrow\\ l_{j1} = \\frac{a_{1j}}{l_{11}} $\n",
        "\n",
        "de esta manera, tenemos el primer renglón y columna encontrados.\n",
        "\n",
        "Pasando al segundo renglón, se tiene que no debemos preocuparnos por $l_{21}$ y comenzamos con $l_{22}$. Notamos que \n",
        "\n",
        "$a_{22} = l_{21}^2 + l_{22}^2\\ \\Rightarrow\\ l_{22} = \\sqrt{a_{22} - l_{21}^2} $\n",
        "\n",
        "y en general, para $j>2$, se tiene que\n",
        "\n",
        "$a_{2j} = l_{21}l_{j1} + l_{22}l_{j2}\\ \\Rightarrow\\ l_{j2} = \\frac{1}{l_{22}} (a_{2j} - l_{21}l_{j1}) $\n",
        "\n",
        "Hacemos el tercer renglón para generalizarlo.\n",
        "\n",
        "Notamos que los 2 primeros renglones y columnas ya los tenemos, así, basta iniciar desde $j=3$.\n",
        "\n",
        "$a_{33} = l_{31}^2 + l_{32}^2 + l_{33}^2\\ \\Rightarrow\\ l_{33}=\\sqrt{a_{33} - l_{31}^2 - l_{32}^2}$\n",
        "\n",
        "y en general, para $j>3$ se tiene que:\n",
        "\n",
        "$a_{3j} = l_{31}l_{j1} + l_{32}l_{j2} + l_{33}l_{j3}\\ \\Rightarrow\\ l_{j3} = \\frac{1}{l_{33}}( a_{3j} - l_{31}l_{j1} - l_{32}l_{j2}) $"
      ]
    },
    {
      "cell_type": "markdown",
      "metadata": {
        "id": "PMP1Uf5DBTrd"
      },
      "source": [
        "Podemos generalizar entonces que \n",
        "\n",
        "$$\n",
        "\\left\\{\n",
        "\\begin{array}\\\\\n",
        "l_{ii} & = & \\sqrt{ a_{ii} - \\sum_{k=1}^{i-1} l_{ik}^2} & i=j \\\\\n",
        "l_{ji} & = & \\frac{1}{l_{ii}}(a_{ij} - \\sum_{k=1}^{i-1} l_{ik}l_{jk}) & i<j\n",
        "\\end{array}\n",
        "\\right.\n",
        "$$\n",
        "\n",
        "Ejemplo a mano:\n",
        "\n",
        "$$\n",
        "A=\\left(\n",
        "\\begin{array}\\\\\n",
        " 1 & 0 & -1\\\\\n",
        " 0 & 1 & 0\\\\\n",
        " -1 & 0 & 2\\\\\n",
        " \\end{array}\n",
        " \\right)\n",
        "$$"
      ]
    },
    {
      "cell_type": "markdown",
      "metadata": {
        "id": "DbkmbwAXBTre"
      },
      "source": [
        "Comenzamos con la primer columna de $L$\n",
        "\n",
        "$l_{11} = \\sqrt{a_{11}} = 1$\n",
        "$l_{21} = \\frac{1}{l_{11}}(a_{12}) = 0$\n",
        "$l_{31} = \\frac{1}{l_{11}}(a_{13}) = -1$\n",
        "\n",
        "Ahora, pasamos a la segunda columna de $L$.\n",
        "\n",
        "$l_{22} = \\sqrt{a_{22} - l_{21}^2} = \\sqrt{1 - 0} = 1$\n",
        "$l_{32} = \\frac{1}{l_{22}}(a_{23} - l_{21}l_{31}) = (0 - 0)=0$\n",
        "\n",
        "Por último, cálculamos $l_{33}$\n",
        "\n",
        "$l_{33} = \\sqrt{a_{33} - l_{31}^2 - l_{32}^2} = \\sqrt{2 - (-1)^2 - 0^2}=1\n",
        "\n",
        "\n",
        "Así, tenemos que:\n",
        "\n",
        "$$\n",
        "A=\\left(\n",
        "\\begin{array}\\\\\n",
        " 1 & 0 & -1\\\\\n",
        " 0 & 1 & 0\\\\\n",
        " -1 & 0 & 2\\\\\n",
        " \\end{array}\n",
        " \\right)\n",
        " =\n",
        " \\left(\n",
        "\\begin{array}\\\\\n",
        " 1 & 0 & 0\\\\\n",
        " 0 & 1 & 0\\\\\n",
        " -1 & 0 & 1\\\\\n",
        " \\end{array}\n",
        " \\right)\n",
        "  \\left(\n",
        "\\begin{array}\\\\\n",
        " 1 & 0 & -1\\\\\n",
        " 0 & 1 & 0\\\\\n",
        " 0 & 0 & 1\\\\\n",
        " \\end{array}\n",
        " \\right)\n",
        "$$"
      ]
    },
    {
      "cell_type": "code",
      "metadata": {
        "id": "710etWFKBTre"
      },
      "source": [
        "#Código de comprobación de simetría\n",
        "def comp_symme(matrix):\n",
        "    for i in range(len(matrix[0])):\n",
        "        for j in range(i,len(matrix[:,0])):\n",
        "            if matrix[i][j]==matrix[j][i]:\n",
        "                value=True\n",
        "            else:\n",
        "                return False\n",
        "    return value"
      ],
      "execution_count": null,
      "outputs": []
    },
    {
      "cell_type": "code",
      "metadata": {
        "colab": {
          "base_uri": "https://localhost:8080/"
        },
        "id": "OICqTSrsBTrf",
        "outputId": "630d34f0-d459-43c2-c037-f6618da22225"
      },
      "source": [
        "#Prueba del código de comprobación\n",
        "\n",
        "sym1=np.array([[1,2,3],\n",
        "               [2,4,5],\n",
        "               [3,5,6]])\n",
        "if comp_symme(sym1):\n",
        "    print(\"Es simétrica\")\n",
        "else:\n",
        "    print(\"No es simétrica\")"
      ],
      "execution_count": null,
      "outputs": [
        {
          "output_type": "stream",
          "name": "stdout",
          "text": [
            "Es simétrica\n"
          ]
        }
      ]
    },
    {
      "cell_type": "code",
      "metadata": {
        "id": "j2i7BUyfBTrf"
      },
      "source": [
        "#código de comprobación de definido-positiva\n",
        "\n",
        "def comp_posit_def(matrix):\n",
        "    for i in range(len(np.linalg.eig(matrix)[0])):\n",
        "        if np.linalg.eig(matrix)[0][i]>0:\n",
        "            value=True\n",
        "        else:\n",
        "            return False\n",
        "    return value"
      ],
      "execution_count": null,
      "outputs": []
    },
    {
      "cell_type": "code",
      "metadata": {
        "colab": {
          "base_uri": "https://localhost:8080/"
        },
        "id": "S9vYaQvyBTrf",
        "outputId": "3db1fccb-eeb6-4679-eddb-a36e01f51e6c"
      },
      "source": [
        "#Prueba de la comprobación de positivos definidos\n",
        "diag1=np.diag((1,2,1))\n",
        "\n",
        "if comp_posit_def(diag1):\n",
        "    print(\"Es positivo definida\")\n",
        "else:\n",
        "    print(\"No es positivo definida\")"
      ],
      "execution_count": null,
      "outputs": [
        {
          "output_type": "stream",
          "name": "stdout",
          "text": [
            "Es positivo definida\n"
          ]
        }
      ]
    },
    {
      "cell_type": "code",
      "metadata": {
        "id": "5AfEvF2VBTrg"
      },
      "source": [
        "## codigo auxiliar de suma\n",
        "\n",
        "def suma_cho_1(index, matrix):\n",
        "    if index==0:\n",
        "        return 0\n",
        "    else:\n",
        "        suma=0\n",
        "        for k in range(index):\n",
        "            suma += matrix[index][k]**2\n",
        "        return suma"
      ],
      "execution_count": null,
      "outputs": []
    },
    {
      "cell_type": "code",
      "metadata": {
        "id": "PE3wZcNFBTrg"
      },
      "source": [
        "#Código auxiliar de suma 2\n",
        "\n",
        "def suma_cho_2(index1, index2, matrix):\n",
        "    if index2==0:\n",
        "        return 0\n",
        "    else:\n",
        "        suma=0\n",
        "        for k in range(index1):\n",
        "            suma += matrix[index1][k]*matrix[index2][k]\n",
        "        return suma"
      ],
      "execution_count": null,
      "outputs": []
    },
    {
      "cell_type": "code",
      "metadata": {
        "id": "RH1-vIFzBTrh"
      },
      "source": [
        "#Librería necesaria para sacar raíces cuadradas\n",
        "\n",
        "import math"
      ],
      "execution_count": null,
      "outputs": []
    },
    {
      "cell_type": "code",
      "metadata": {
        "id": "nXVZpt8IBTrh"
      },
      "source": [
        "def Cholesky(matrix):\n",
        "    matrix = np.array(matrix)\n",
        "    if comp_cuad(matrix):\n",
        "        if comp_inv(matrix):\n",
        "            if comp_symme(matrix):\n",
        "                if comp_posit_def(matrix):\n",
        "    \n",
        "    \n",
        "                    lower=np.zeros((len(matrix[0]),len(matrix[:,0])))\n",
        "\n",
        "                    for i in range(len(matrix[0])):\n",
        "                        for j in range(i,len(matrix[0])):\n",
        "                            if i==j:\n",
        "                                lower[i][i] = math.sqrt(matrix[i][i] - suma_cho_1(i,lower))\n",
        "                            else:\n",
        "                                lower[j][i] = (1/lower[i][i])*(matrix[i][j] - suma_cho_2(i,j,lower))\n",
        "                    return lower\n",
        "                else:\n",
        "                    print(\"No es positivo-definida\")\n",
        "            else:\n",
        "                print(\"No es una matriz simétrica\")\n",
        "        else:\n",
        "            print(\"No tiene inversa\")\n",
        "    else:\n",
        "        print(\"No es una matriz cuadrada\")"
      ],
      "execution_count": null,
      "outputs": []
    },
    {
      "cell_type": "code",
      "metadata": {
        "colab": {
          "base_uri": "https://localhost:8080/"
        },
        "id": "5Kt159KIBTrh",
        "outputId": "0c9958d6-c42a-4cc8-8cbb-0263cb3c4513"
      },
      "source": [
        "Cholesky(np.array([[1,0,-1],[0,1,0],[-1,0,2]]))"
      ],
      "execution_count": null,
      "outputs": [
        {
          "output_type": "execute_result",
          "data": {
            "text/plain": [
              "array([[ 1.,  0.,  0.],\n",
              "       [ 0.,  1.,  0.],\n",
              "       [-1.,  0.,  1.]])"
            ]
          },
          "metadata": {},
          "execution_count": 33
        }
      ]
    },
    {
      "cell_type": "code",
      "metadata": {
        "id": "eCcnNLpvBTrj"
      },
      "source": [
        "def randint_sym_mat(n):\n",
        "    matrix=np.zeros((n,n))\n",
        "    for i in range(n):\n",
        "        for j in range(i,n):\n",
        "            matrix[i][j]=rand.randint(0,10)\n",
        "            matrix[j][i]=matrix[i][j]\n",
        "    return matrix"
      ],
      "execution_count": null,
      "outputs": []
    },
    {
      "cell_type": "code",
      "metadata": {
        "colab": {
          "base_uri": "https://localhost:8080/"
        },
        "id": "3r-QqHZ_BTrj",
        "outputId": "264badab-6f47-42af-d922-9245bbad4e83"
      },
      "source": [
        "randint_sym_mat(3)"
      ],
      "execution_count": null,
      "outputs": [
        {
          "output_type": "execute_result",
          "data": {
            "text/plain": [
              "array([[8., 9., 7.],\n",
              "       [9., 8., 1.],\n",
              "       [7., 1., 1.]])"
            ]
          },
          "metadata": {},
          "execution_count": 40
        }
      ]
    },
    {
      "cell_type": "code",
      "metadata": {
        "colab": {
          "base_uri": "https://localhost:8080/",
          "height": 322
        },
        "id": "AczZoJTxBTrk",
        "outputId": "746d8a52-3aa7-4a10-9e82-f2dcaaf8a3a4"
      },
      "source": [
        "proof=randint_sym_mat(3)\n",
        "\n",
        "print(\"A=\", proof)\n",
        "print(\" \")\n",
        "L=Cholesky(proof)\n",
        "print(\"L=\",L)\n",
        "print(\" \")\n",
        "print(\"A-LL^T=\",proof - np.matmul(L,L.transpose()))"
      ],
      "execution_count": null,
      "outputs": [
        {
          "output_type": "stream",
          "name": "stdout",
          "text": [
            "A= [[1. 1. 8.]\n",
            " [1. 5. 3.]\n",
            " [8. 3. 8.]]\n",
            " \n",
            "No es positivo-definida\n",
            "L= None\n",
            " \n"
          ]
        },
        {
          "output_type": "error",
          "ename": "AttributeError",
          "evalue": "ignored",
          "traceback": [
            "\u001b[0;31m---------------------------------------------------------------------------\u001b[0m",
            "\u001b[0;31mAttributeError\u001b[0m                            Traceback (most recent call last)",
            "\u001b[0;32m<ipython-input-52-487098b62034>\u001b[0m in \u001b[0;36m<module>\u001b[0;34m()\u001b[0m\n\u001b[1;32m      6\u001b[0m \u001b[0mprint\u001b[0m\u001b[0;34m(\u001b[0m\u001b[0;34m\"L=\"\u001b[0m\u001b[0;34m,\u001b[0m\u001b[0mL\u001b[0m\u001b[0;34m)\u001b[0m\u001b[0;34m\u001b[0m\u001b[0;34m\u001b[0m\u001b[0m\n\u001b[1;32m      7\u001b[0m \u001b[0mprint\u001b[0m\u001b[0;34m(\u001b[0m\u001b[0;34m\" \"\u001b[0m\u001b[0;34m)\u001b[0m\u001b[0;34m\u001b[0m\u001b[0;34m\u001b[0m\u001b[0m\n\u001b[0;32m----> 8\u001b[0;31m \u001b[0mprint\u001b[0m\u001b[0;34m(\u001b[0m\u001b[0;34m\"A-LL^T=\"\u001b[0m\u001b[0;34m,\u001b[0m\u001b[0mproof\u001b[0m \u001b[0;34m-\u001b[0m \u001b[0mnp\u001b[0m\u001b[0;34m.\u001b[0m\u001b[0mmatmul\u001b[0m\u001b[0;34m(\u001b[0m\u001b[0mL\u001b[0m\u001b[0;34m,\u001b[0m\u001b[0mL\u001b[0m\u001b[0;34m.\u001b[0m\u001b[0mtranspose\u001b[0m\u001b[0;34m(\u001b[0m\u001b[0;34m)\u001b[0m\u001b[0;34m)\u001b[0m\u001b[0;34m)\u001b[0m\u001b[0;34m\u001b[0m\u001b[0;34m\u001b[0m\u001b[0m\n\u001b[0m",
            "\u001b[0;31mAttributeError\u001b[0m: 'NoneType' object has no attribute 'transpose'"
          ]
        }
      ]
    },
    {
      "cell_type": "code",
      "metadata": {
        "id": "0d7pl2boBTrk"
      },
      "source": [
        ""
      ],
      "execution_count": null,
      "outputs": []
    }
  ]
}