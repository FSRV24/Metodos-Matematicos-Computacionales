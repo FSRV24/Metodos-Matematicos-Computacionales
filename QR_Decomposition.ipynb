{
  "nbformat": 4,
  "nbformat_minor": 0,
  "metadata": {
    "kernelspec": {
      "display_name": "Python 3",
      "language": "python",
      "name": "python3"
    },
    "language_info": {
      "codemirror_mode": {
        "name": "ipython",
        "version": 3
      },
      "file_extension": ".py",
      "mimetype": "text/x-python",
      "name": "python",
      "nbconvert_exporter": "python",
      "pygments_lexer": "ipython3",
      "version": "3.7.6"
    },
    "colab": {
      "name": "QR_Decomposition.ipynb",
      "provenance": []
    }
  },
  "cells": [
    {
      "cell_type": "markdown",
      "metadata": {
        "id": "jrqJkvNSoxG_"
      },
      "source": [
        "# Factorización QR\n",
        "\n",
        "\n",
        "La factorización QR, consiste en descomponer una matriz $A$ en el producto de una matriz ortogonal $Q$ y una matriz triangular superior $R$.\n",
        "\n",
        "Una matriz se dice ortogonal, si cumple que $QQ^T =\\text{Id}$.\n",
        "\n",
        "Si $A$ es una matriz de $n\\times n$ con coeficientes reales, la factorización puede realizarse, sin embargo, esta descomposición puede no ser única. En el caso en el que $A$ sea invertible y se exija que $R_{ii}>0$, la descomposición será única.\n",
        "\n",
        "A diferencia de las anteriores factorizaciones, esta factorización puede hacerse en matrices que no sean cuadradas, siempre y cuando la cantidad de renglones sea mayor que la cantidad de columnas.\n",
        "\n",
        "Es decir, dada $A$ matriz de $m \\times n$ donde $m\\geq n$, $A$ puede ser escrita como el producto de una matriz ortogonal $Q$ de $m \\times m$ y una matriz triangular superior $R$ de $m \\times n$, donde los últimos $(m-n)$ renglones de $R$ serán cero.\n",
        "\n",
        "\n",
        "Cuando este es el caso es útil descomponer nuestras matrices $Q$ y $R$ como se muestra.\n",
        "\n",
        "$$\n",
        "A=QR=\\left[ \\begin{array}\\\\\n",
        "Q_1 & Q_2\n",
        "\\end{array}\n",
        "\\right]\n",
        "\\left[ \\begin{array}\\\\\n",
        "R_1 \\\\\n",
        "0\n",
        "\\end{array}\n",
        "\\right]\n",
        "$$\n",
        "\n"
      ]
    },
    {
      "cell_type": "markdown",
      "metadata": {
        "id": "p3A9QJ0LoxHI"
      },
      "source": [
        "Donde $Q_1$ es una matriz de $m \\times n$ ortogonal, $Q_2$ es una matriz de $m \\times (m-n)$ ortogonal, $R_1$ es una matriz de $n \\times n$ triangular superior y $0$ es una matriz de $(m-n) \\times n$ de ceros.\n",
        "\n",
        "Si se cumple que el rango de $A$ es el mismo que el del número de columnas $\\text{rank}(A) = n$, y se exige que $(R_1)_{ii}>0$, entonces las matrices $Q_1$ y $R_1$ son únicas, además, dada la matriz $\\tilde{A} = A^T A$, tal que $\\tilde{A} = LL^T$ se cumple que $R_1 = L^T$\n",
        "\n",
        "\n",
        "## Cálculo del método\n",
        "\n",
        "La idea detrás de la factorización es encontrar una base ortonormal para el espacio generado por las columnas de nuestra matriz $A$. \n",
        "\n",
        "Como un repaso de Álgebra Lineal rápido, dado un conjunto $V=\\{v_i\\}_{i=1}^n$ de n vectores en un espacio vectorial $W$, el espacio generado por el conjunto $V$, $\\text{Span}(V)$ es el conjunto cuyos elementos son combinaciones lineales de los elemtos de $V$, formalmente\n",
        "\n",
        "$$\n",
        "\\text{Span}(V) = \\{x \\in W | x = \\sum_{i=1}^n \\alpha_i v_i, \\alpha_i \\in \\mathbb{R} \\}\n",
        "$$\n",
        "\n",
        "En nuestro caso, los escalares $\\alpha_i$ son números reales pero en general, estos pueden ser elementos del campo $\\mathbb{K}$ en el que se encuentre definido nuestro espacio vectorial.\n",
        "\n",
        "Ahora, una base $\\beta$ de un espacio vectorial $V$, es un conjunto de vectores $v_i$ que generan el espacio, es decir dado $\\beta=\\{ v_i \\in V \\}$, se cumple que \n",
        "\n",
        "$$\n",
        "\\forall v \\in V,\\  \\exists \\alpha_i \\in \\mathbb{R}\\ \\  \\text{tal que}\\ \\  v = \\sum_{i=1}^n \\alpha_i v_i\n",
        "$$\n",
        "\n",
        "Que se puede reducir a $V= \\text{Span}(\\beta)$\n",
        "\n",
        "Si nuestra matriz de $n \\times n$ es invertible, en realidad, estamos buscando una base para el espacio $\\mathbb{R}^n$ ya que sus columnas serán todas linealmente independientes y el espacio generado por ellas será $\\mathbb{R}^n$.\n",
        "\n",
        "La manera más fácil en la que las columnas de nuestra matriz pueden expresarse, es tomando una base que se genere a partir de ellas, así que ahora surge la pregunta ¿Cómo se puede generar una base a partir de un conjunto de vectores l.i. dado?.\n",
        "\n",
        "\n",
        "### Método de Gram-Schmidt\n",
        "\n",
        "\n",
        "La respuesta a nuestra anterior pregunta, es utilizando un proceso llamado Gram-Schmidt. \n",
        "\n",
        "#### Teoría Previa\n",
        "\n",
        "Para utilizar dicho proceso, se debe introducir el concepto de producto interior.\n",
        "\n",
        "El producto interior, es una función $< \\cdot , \\cdot >: V \\times V: \\rightarrow \\mathbb{R}$ que toma dos vectores y arroja un escalar, esta función debe cumplir las siguientes 3 propiedades.\n",
        "\n",
        "I) Debe ser lineal en ambos de sus argumentos. Dados $x,y,z \\in V,\\ \\alpha, \\lambda \\in \\mathbb{R}$\n",
        "\n",
        "$$\n",
        "<\\alpha x + y, \\lambda z> = \\alpha \\lambda <x,z> + \\lambda<y,z>\n",
        "$$\n",
        "\n",
        "II) Debe ser simétrico. Dados $x,y \\in V$\n",
        "\n",
        "$$\n",
        "<x,y> = <y,x>\n",
        "$$\n",
        "\n",
        "III) Debe ser positivo semi-definido. Dado $x \\in V$\n",
        "\n",
        "$$\n",
        "<x,x>\\geq 0\n",
        "$$\n",
        "\n",
        "El producto interior, introduce la noción geométrica en espacios vectoriales, ya que permite definir una $\\textbf{norma}$ la cuál se asocia con la longitud de un vector y con ambas se definen los ángulos entre vectores. De esta manera se puede relacionar el concepto de independencia lineal algebráica con la colinealidad o no de los vectores.\n",
        "\n",
        "$$\n",
        "|x|^2 = <x,x>\n",
        "$$\n",
        "\n",
        "Ahora, si definimos que el ángulo entre los vectores sea\n",
        "\n",
        "$$\n",
        "\\theta=\\arccos\\left(\\frac{<x,y>}{|x||y|}\\right)\n",
        "$$\n",
        "\n",
        "Donde $|\\cdot|$ es la norma de los vectores, se tiene que dados dos vectores $u,v$, estos serán ortogonales $\\Leftrightarrow\\ \\ <u,v>=0$.\n",
        "\n",
        "Porque\n",
        "\n",
        "$$\n",
        "<u,v> = 0 = |u||v|\\cos\\theta\\ \\Leftrightarrow\\ \\theta = \\pi/2\n",
        "$$\n",
        "\n",
        "Con esto definido, podemos comenzar a comprender el proceso de Gram-Schmidt.\n",
        "\n",
        "Una equivalencia de que una matriz $Q$ sea ortogonal, es que dadas dos columnas cualesquiera de $Q$, $Q_i,Q_j$ se cumpla que\n",
        "\n",
        "$$\n",
        "<Q_i,Q_j>=\\left\\{\\begin{array}\\\\\n",
        " 1 & \\text{si} & i=j\\\\\n",
        " 0 & \\text{si} & i \\neq j\n",
        " \\end{array}\n",
        " \\right.\n",
        "$$"
      ]
    },
    {
      "cell_type": "markdown",
      "metadata": {
        "id": "h6K3cyVjoxHN"
      },
      "source": [
        "#### Cálculo de una base ortonormal\n",
        "\n",
        "Una base $\\beta$ se dice ortonormal, si cumple que dados $u_i,u_j \\in \\beta$, se cumple que\n",
        "\n",
        "$$\n",
        "<u_i,u_j>=\\left\\{\\begin{array}\\\\\n",
        " 1 & \\text{si} & i=j\\\\\n",
        " 0 & \\text{si} & i \\neq j\n",
        " \\end{array}\n",
        " \\right.\n",
        "$$\n",
        "\n",
        "y además, $|u| = 1$ para todo $u \\in \\beta$.\n",
        "\n",
        "Definamos ahora la proyección de un vector $u$ en un vector $v$\n",
        "\n",
        "$$\n",
        "\\text{proj}_\\textbf{v} \\textbf{u} = \\frac{<\\textbf{u,v}>}{<\\textbf{v,v}>}\\textbf{v} = \\frac{|u||v|\\cos \\theta}{|v|^2}v\n",
        "$$\n",
        "\n",
        "Esta función es llamada la proyección porque\n",
        "\n",
        "$$\n",
        "\\text{proj}_\\textbf{v} \\textbf{u} = |\\textbf{u}|\\cos \\theta \\frac{\\textbf{v}}{\\textbf{|v|}}\n",
        "$$\n",
        "\n",
        "\n",
        "Es decir, nos da la componente de $\\textbf{u}$ en la dirección del vector $\\textbf{v}$.\n",
        "\n",
        "De esta manera, dado un conjunto de vectores $\\{a_i\\}$ que sean l.i., para obtener una base ortonormal de ellos, se siguen los siuientes pasos\n",
        "\n"
      ]
    },
    {
      "cell_type": "markdown",
      "metadata": {
        "id": "M4FME4btoxHO"
      },
      "source": [
        "El primer vector de nuestra base tendrá la dirección del primer vector de nuestro conjunto\n",
        "\n",
        "$$u_1 = a_1$$\n",
        "\n",
        "sin embargo, esto no es unitario, así que lo volvemos unitario \n",
        "\n",
        "$$e_1=\\frac{u_1}{|u_1|}$$\n",
        "\n",
        "Para que el siguiente vector no contenga ningún elemento en dirección del vector anterior, le restaremos su proyección, es decir\n",
        "\n",
        "$$u_2 = a_2 - \\text{proj}_{u_1} a_2$$\n",
        "\n",
        "De esta manera, estos vectores serán ortogonales. Ahora lo volvemos unitario\n",
        "\n",
        "$$e_2 = \\frac{u_2}{|u_2|}$$\n",
        "\n",
        "Para el tercer vector debemos restarle su proyeción de los 2 anteriores vectores para que el nuevo, no tenga ninguna dirección igual. \n",
        "\n",
        "$$u_3 = a_3 - \\text{proj}_{u_1} a_3 - \\text{proj}_{u_2} a_3$$\n",
        "\n",
        "Así, este tercer vector será ortogonal a los anteriores. Y también lo volvemos unitario.\n",
        "\n",
        "$$ e_3 = \\frac{u_3}{|u_3|}$$\n",
        "\n",
        "Este proceso se continua de la misma forma, en general, se puede escribir que \n",
        "\n",
        "$$u_k = a_k - \\sum_{i=1}^{k-1}\\text{proj}_{u_i} a_k$$\n",
        "\n",
        "$$e_k = \\frac{u_k}{|u_k|}$$"
      ]
    },
    {
      "cell_type": "markdown",
      "metadata": {
        "id": "edjCZ9C_oxHP"
      },
      "source": [
        "## Cálculo de las matrices Q y R\n",
        "\n",
        "\n",
        "Sea $A$ una matriz cuadrada de coeficientes reales, sean $a_i$ las columnas de la matriz $A$, definimos el conjunto $\\beta = \\{ e_i \\} $ tal que los vectores $e_i$ fueron obtenidos mediante el proceso de ortogonalización de Gram-Schmidt. Entonces, se cumple que dada una columna de $A$,\n",
        "\n",
        "$$a_k = \\sum_{i=1}^k <e_i,a_k> e_i$$\n",
        "\n",
        "Esta fórmula se obtiene directamente del proceso Gram-Schmidt al despejar cada $a_k$.\n",
        "\n",
        "De esta manera, se puede ver que si $Q=( e_1, e_2, ... , e_n)$, entonces\n",
        "$$\n",
        "R = \\left(\\begin{array}\\\\\n",
        " <a_1,e_1> & <a_2,e_1> & ... & <a_n,e_1>\\\\\n",
        " 0 & <a_2,e_2> & ... & <a_n,e_2>\\\\\n",
        " \\vdots & \\vdots & \\ddots &  \\vdots\\\\\n",
        " 0 & 0 & ... & <a_n,e_n>\n",
        " \\end{array}\n",
        " \\right)\n",
        "$$\n",
        "\n",
        "Ya que:\n",
        "\n",
        "$$\n",
        "(a_1, a_2, ... , a_n) = (e_1, e_2, ..., e_n) \\left(\\begin{array}\\\\\n",
        " <a_1,e_1> & <a_2,e_1> & ... & <a_n,e_1>\\\\\n",
        " 0 & <a_2,e_2> & ... & <a_n,e_2>\\\\\n",
        " \\vdots & \\vdots & \\ddots &  \\vdots\\\\\n",
        " 0 & 0 & ... & <a_n,e_n>\n",
        " \\end{array}\n",
        " \\right)\n",
        "$$"
      ]
    },
    {
      "cell_type": "markdown",
      "metadata": {
        "id": "cmzNPk6FoxHP"
      },
      "source": [
        "Así, podemos escribir en general los elementos de R como\n",
        "\n",
        "$$\n",
        "R_{ij} = <e_i,a_j>\n",
        "$$"
      ]
    },
    {
      "cell_type": "code",
      "metadata": {
        "id": "XGUxrg02oxHQ"
      },
      "source": [
        "import numpy as np"
      ],
      "execution_count": null,
      "outputs": []
    },
    {
      "cell_type": "code",
      "metadata": {
        "id": "OrlMSw9UoxHT"
      },
      "source": [
        "import random as rand"
      ],
      "execution_count": null,
      "outputs": []
    },
    {
      "cell_type": "code",
      "metadata": {
        "id": "CwPo9d6foxHV"
      },
      "source": [
        "#Proyección de u sobre v\n",
        "def proj(u,v):\n",
        "    x = (np.dot(u,v)/np.dot(v,v))*v\n",
        "    return x"
      ],
      "execution_count": null,
      "outputs": []
    },
    {
      "cell_type": "code",
      "metadata": {
        "id": "Ki1pnSsroxHW"
      },
      "source": [
        "def sum_gram(index,A,U):\n",
        "    if index==0:\n",
        "        return 0\n",
        "    else:\n",
        "        for i in range(index):\n",
        "            suma=0\n",
        "            suma += proj(A[index], U[i])\n",
        "        return suma"
      ],
      "execution_count": null,
      "outputs": []
    },
    {
      "cell_type": "code",
      "metadata": {
        "id": "2EOWjCL3oxHX"
      },
      "source": [
        "def gram_sch(A):\n",
        "    A=np.array(A)\n",
        "    U=np.zeros((len(A),len(A)))\n",
        "    for i in range(len(A)):\n",
        "        U[i] = A[i] - sum_gram(i,A,U)\n",
        "        U[i]= U[i]/np.linalg.norm(U[i])\n",
        "    return U"
      ],
      "execution_count": null,
      "outputs": []
    },
    {
      "cell_type": "code",
      "metadata": {
        "id": "x8P3depnoxHX"
      },
      "source": [
        "def QR_fact(A):\n",
        "    A=np.array(A)\n",
        "    AT=A.transpose() #Las columnas de $A$ ahora son elemento de AT\n",
        "    U=gram_sch(AT)\n",
        "    Q=U.transpose() #Los vectores de $U$ son columnas de $Q$\n",
        "    R=np.zeros((len(A[0]),len(A[:,0])))\n",
        "    for i in range(len(R[0])):\n",
        "        for j in range(i,len(R[:,0])):\n",
        "            R[i][j]=np.dot(U[i],AT[j])\n",
        "    \n",
        "    return Q,R"
      ],
      "execution_count": null,
      "outputs": []
    },
    {
      "cell_type": "code",
      "metadata": {
        "colab": {
          "base_uri": "https://localhost:8080/"
        },
        "id": "8tmHMf2goxHY",
        "outputId": "c5b87e9c-4817-4d7a-9aea-a19ba9320ba1"
      },
      "source": [
        "Rand=((1,2,1),(0,2,-1),(0,-1,2))\n",
        "\n",
        "print(\"Matriz aleatoria a factorizar\",Rand)\n",
        "print(\" \")\n",
        "print(\" \")\n",
        "print(\"Q=\", QR_fact(Rand)[0])\n",
        "print(\" \")\n",
        "print(\" \")\n",
        "print(\"R=\", QR_fact(Rand)[1])\n",
        "print(\" \")\n",
        "print(\" \")\n",
        "print(\"Resta de la original y la multiplicación\",\n",
        "     np.matmul(QR_fact(Rand)[0],QR_fact(Rand)[1]) - Rand)"
      ],
      "execution_count": null,
      "outputs": [
        {
          "output_type": "stream",
          "name": "stdout",
          "text": [
            "Matriz aleatoria a factorizar ((1, 2, 1), (0, 2, -1), (0, -1, 2))\n",
            " \n",
            " \n",
            "Q= [[ 1.          0.          0.5976143 ]\n",
            " [ 0.          0.89442719  0.35856858]\n",
            " [ 0.         -0.4472136   0.71713717]]\n",
            " \n",
            " \n",
            "R= [[ 1.          2.          1.        ]\n",
            " [ 0.          2.23606798 -1.78885438]\n",
            " [ 0.          0.          1.67332005]]\n",
            " \n",
            " \n",
            "Resta de la original y la multiplicación [[ 0.00000000e+00  0.00000000e+00  1.00000000e+00]\n",
            " [ 0.00000000e+00  0.00000000e+00  1.11022302e-16]\n",
            " [ 0.00000000e+00  0.00000000e+00 -2.22044605e-16]]\n"
          ]
        }
      ]
    },
    {
      "cell_type": "code",
      "metadata": {
        "id": "HX4dRF-qoxHa"
      },
      "source": [
        ""
      ],
      "execution_count": null,
      "outputs": []
    }
  ]
}